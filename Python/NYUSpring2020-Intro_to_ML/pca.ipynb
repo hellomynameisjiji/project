{
 "cells": [
  {
   "cell_type": "markdown",
   "metadata": {},
   "source": [
    "# HW3: PCA & NMF"
   ]
  },
  {
   "cell_type": "markdown",
   "metadata": {},
   "source": [
    "## Principal Components Analysis (PCA)\n",
    "\n",
    "Your task is to implement PCA on the `20newsgroups` dataset.\n",
    "\n",
    "- We provide code below that uses [tf-idf](https://en.wikipedia.org/wiki/Tf%E2%80%93idf) to convert each document in the dataset into a vector of features (**1. Data**).\n",
    "\n",
    "- You will then use scikit learn's PCA implementation on these features (**2. PCA**).\n",
    "\n",
    "- Finally, you'll visualize the reduced data points (**3. Visualizing the reduced data points**) and the principal components (**4. Visualizing the  components**)."
   ]
  },
  {
   "cell_type": "code",
   "execution_count": 435,
   "metadata": {},
   "outputs": [],
   "source": [
    "import numpy as np\n",
    "import matplotlib.pyplot as plt\n",
    "%matplotlib inline\n",
    "\n",
    "from sklearn import datasets\n",
    "from sklearn.feature_extraction.text import TfidfVectorizer, CountVectorizer"
   ]
  },
  {
   "cell_type": "markdown",
   "metadata": {},
   "source": [
    "## 1. Data (0 points)"
   ]
  },
  {
   "cell_type": "code",
   "execution_count": 436,
   "metadata": {},
   "outputs": [],
   "source": [
    "newsgroups_train = datasets.fetch_20newsgroups(\n",
    "    subset='train', \n",
    "    categories=['comp.sys.mac.hardware', \n",
    "                'rec.motorcycles', \n",
    "                'sci.med', \n",
    "                'soc.religion.christian']\n",
    ")"
   ]
  },
  {
   "cell_type": "code",
   "execution_count": 437,
   "metadata": {},
   "outputs": [],
   "source": [
    "tfidf_vectorizer = TfidfVectorizer(min_df=30)\n",
    "X = tfidf_vectorizer.fit_transform(newsgroups_train.data).todense()\n",
    "X = X - X.mean(0)\n",
    "\n",
    "y = newsgroups_train.target"
   ]
  },
  {
   "cell_type": "code",
   "execution_count": 438,
   "metadata": {},
   "outputs": [
    {
     "name": "stdout",
     "output_type": "stream",
     "text": [
      "From: jgd@dixie.com (John De Armond)\n",
      "Subject: Re: Do we need a Radiologist to read an Ultrasound?\n",
      "Organization: Dixie Communications Public Access.  The Mouth of the South.\n",
      "Lines: 28\n",
      "\n",
      "E.J. Draper <draper@odin.mda.uth.tmc.edu> writes:\n",
      "\n",
      ">If it were my wife, I would insist that a radiologist be involved in the\n",
      ">process.  Radiologist are intensively trained in the process of\n",
      ">interpreting diagnostic imaging data and are aware of many things that\n",
      ">other physicians aren't aware of.  \n",
      "\n",
      "Maybe, maybe not.  A new graduate would obviously be well trained (but\n",
      "perhaps without sufficient experience). A radiologist trained 10 or\n",
      "15 years ago who has not kept his continuing education current is a \n",
      "whole 'nuther matter.  A OB who HAS trained in modern radiology technology\n",
      "is certainly more qualified than the latter and at least equal to \n",
      "the former.\n",
      "\n",
      ">Would you want a radiologist to\n",
      ">deliver your baby?  If you wouldn't, then why would you want a OB/GYN to\n",
      ">read your ultrasound study?\n",
      "\n",
      "If the radiologist is also trained in OB/GYN, why not?\n",
      "\n",
      "John\n",
      "\n",
      "-- \n",
      "John De Armond, WD4OQC               |Interested in high performance mobility?  \n",
      "Performance Engineering Magazine(TM) | Interested in high tech and computers? \n",
      "Marietta, Ga                         | Send ur snail-mail address to \n",
      "jgd@dixie.com                        | perform@dixie.com for a free sample mag\n",
      "Lee Harvey Oswald: Where are ya when we need ya?\n",
      "\n",
      "tf-idf representation: [[-0.00356257 -0.00137043 -0.00235726 ... -0.00153773 -0.00254579\n",
      "  -0.00232374]] (1, 1771)\n",
      "class: 2 (sci.med)\n",
      "Corpus size:  2369\n"
     ]
    }
   ],
   "source": [
    "# Show an example (item 0 in the dataset)\n",
    "print(newsgroups_train.data[0])\n",
    "print(\"tf-idf representation:\", X[0], X[0].shape)  # 1771 words\n",
    "print(\"class:\", y[0], \"(%s)\" % newsgroups_train.target_names[y[0]])\n",
    "print('Corpus size: ', len(X)) # 2369 documents"
   ]
  },
  {
   "cell_type": "markdown",
   "metadata": {},
   "source": [
    "## 2. PCA - Principal Components Analysis (5 points)\n",
    "\n",
    "Use `q = 4` (where `q` is the number of components, as in the lecture notes)"
   ]
  },
  {
   "cell_type": "code",
   "execution_count": 439,
   "metadata": {},
   "outputs": [],
   "source": [
    "q = 4"
   ]
  },
  {
   "cell_type": "code",
   "execution_count": 440,
   "metadata": {},
   "outputs": [],
   "source": [
    "# <TODO> import the proper class\n",
    "from sklearn.decomposition import PCA"
   ]
  },
  {
   "cell_type": "code",
   "execution_count": 441,
   "metadata": {},
   "outputs": [],
   "source": [
    "# <TODO> initialize the PCA model.\n",
    "pca = PCA(n_components=q)"
   ]
  },
  {
   "cell_type": "code",
   "execution_count": 442,
   "metadata": {},
   "outputs": [],
   "source": [
    "# <TODO> train the PCA model and retrieve the low-dimensional projection of X.\n",
    "pca.fit(X)\n",
    "Z = pca.transform(X)\n"
   ]
  },
  {
   "cell_type": "code",
   "execution_count": 443,
   "metadata": {},
   "outputs": [],
   "source": [
    "# <TODO> retrieve the explained variance ratio.\n",
    "var_ratio = pca.explained_variance_ratio_"
   ]
  },
  {
   "cell_type": "code",
   "execution_count": 444,
   "metadata": {},
   "outputs": [
    {
     "name": "stdout",
     "output_type": "stream",
     "text": [
      "Ratio of variance explained:  [0.03080441 0.01712901 0.0115538  0.00999021]\n"
     ]
    }
   ],
   "source": [
    "# You should get around (there may be very small variations between runs): \n",
    "#      [0.03080441 0.01712901 0.01155379 0.00999028]\n",
    "\n",
    "print('Ratio of variance explained: ', var_ratio)"
   ]
  },
  {
   "cell_type": "code",
   "execution_count": 445,
   "metadata": {},
   "outputs": [
    {
     "name": "stdout",
     "output_type": "stream",
     "text": [
      "Original Shape:  (2369, 1771)\n",
      "Reduced Shape:  (2369, 4)\n"
     ]
    }
   ],
   "source": [
    "# You should get:\n",
    "#      Original Shape:  (2369, 1771)\n",
    "#      Reduced Shape:  (2369, 4)\n",
    "\n",
    "print('Original Shape: ', X.shape)\n",
    "print('Reduced Shape: ', Z.shape)\n"
   ]
  },
  {
   "cell_type": "markdown",
   "metadata": {},
   "source": [
    "## 3. Visualizing the reduced data points (2 points)\n",
    "\n",
    "Below you will visualize the **first two dimensions** of the reduced data.\n",
    "\n",
    "**_Question_: Based on the visualization, which class has a noticeably different low-dimensional representation?**  Refer to `newsgroups_train.target_names` to interpret the integer class label.\n",
    "\n",
    "**_Your answer here_:** sci.med."
   ]
  },
  {
   "cell_type": "code",
   "execution_count": 446,
   "metadata": {},
   "outputs": [
    {
     "data": {
      "image/png": "[encoded data removed]",
      "text/plain": [
       "<Figure size 576x432 with 1 Axes>"
      ]
     },
     "metadata": {
      "needs_background": "light"
     },
     "output_type": "display_data"
    }
   ],
   "source": [
    "# <TODO> Select the dimensions to visualize\n",
    "x_axis_data = Z[:,0]\n",
    "y_axis_data = Z[:,1]\n",
    "\n",
    "# Visualize (you should not need to modify this.)\n",
    "plt.figure(figsize=(8, 6))\n",
    "for label in np.unique(y):\n",
    "    x_ = x_axis_data[y == label]\n",
    "    y_ = y_axis_data[y == label]\n",
    "    plt.scatter(x_, y_, label=newsgroups_train.target_names[label])\n",
    "plt.legend();"
   ]
  },
  {
   "cell_type": "markdown",
   "metadata": {},
   "source": [
    "## 4. Visualizing the principal components (3 points)\n",
    "\n",
    "We will 'visualize' each principal component by printing its highest-weighted tokens."
   ]
  },
  {
   "cell_type": "code",
   "execution_count": 447,
   "metadata": {},
   "outputs": [
    {
     "data": {
      "text/plain": [
       "(4, 1771)"
      ]
     },
     "execution_count": 447,
     "metadata": {},
     "output_type": "execute_result"
    }
   ],
   "source": [
    "# <TODO> uncomment below. Retrieve W\n",
    "W = pca.components_\n",
    "W.shape"
   ]
  },
  {
   "cell_type": "code",
   "execution_count": 448,
   "metadata": {},
   "outputs": [
    {
     "name": "stdout",
     "output_type": "stream",
     "text": [
      "--- Component 0\n",
      "not (0.121831)\n",
      "we (0.130983)\n",
      "in (0.140311)\n",
      "god (0.149258)\n",
      "is (0.185458)\n",
      "and (0.188487)\n",
      "to (0.233587)\n",
      "that (0.235554)\n",
      "of (0.272942)\n",
      "the (0.487690)\n",
      "--- Component 1\n",
      "n3jxp (-0.005530)\n",
      "chastity (-0.005530)\n",
      "shameful (-0.005335)\n",
      "cadre (-0.005335)\n",
      "dsl (-0.005335)\n",
      "cs (-0.018113)\n",
      "gordon (-0.015596)\n",
      "banks (-0.015320)\n",
      "geb (-0.016022)\n",
      "pitt (-0.019238)\n",
      "--- Component 2\n",
      "not (0.121831)\n",
      "hell (0.033377)\n",
      "christians (0.053408)\n",
      "faith (0.044863)\n",
      "that (0.235554)\n",
      "his (0.080540)\n",
      "jesus (0.073274)\n",
      "he (0.115787)\n",
      "we (0.130983)\n",
      "god (0.149258)\n",
      "--- Component 3\n",
      "uga (-0.004927)\n",
      "georgia (-0.008641)\n",
      "apple (-0.037457)\n",
      "ai (-0.012508)\n",
      "god (0.149258)\n",
      "university (-0.040769)\n",
      "of (0.272942)\n",
      "mac (-0.048691)\n",
      "edu (-0.092635)\n",
      "the (0.487690)\n"
     ]
    }
   ],
   "source": [
    "idx_to_token = {\n",
    "    idx: token \n",
    "    for token, idx in tfidf_vectorizer.vocabulary_.items()\n",
    "}\n",
    "\n",
    "# For each component...\n",
    "for i in range(q):\n",
    "    sorted_idxs = np.argsort(W[i])\n",
    "\n",
    "    print('--- Component %d' % i)\n",
    "    # <TODO> print out the tokens with the top-10 highest weights \n",
    "    #        for this component.\n",
    "    for jj in sorted_idxs[-10:]:\n",
    "        print ('{} ({:0.6f})'.format(idx_to_token[jj], W[0,jj]))"
   ]
  },
  {
   "cell_type": "markdown",
   "metadata": {},
   "source": [
    "## Non-negative Matrix Factorization (NMF) (10 points)\n",
    "\n",
    "Now your task is to use NMF:\n",
    "- Use the `sklearn.decomposition.NMF` class to find a low-dimensional representation of the data\n",
    "- Print out the 10 highest-weighted tokens according to each row of the weight matrix `W`\n",
    "\n",
    "_The overall pattern should be similar to steps (2) and (4) that you did above._"
   ]
  },
  {
   "cell_type": "markdown",
   "metadata": {},
   "source": [
    "Use `q=10`:"
   ]
  },
  {
   "cell_type": "code",
   "execution_count": 449,
   "metadata": {},
   "outputs": [],
   "source": [
    "tfidf_vectorizer = TfidfVectorizer(min_df=30)\n",
    "X = tfidf_vectorizer.fit_transform(newsgroups_train.data).todense()\n",
    "\n",
    "q = 10\n",
    "\n",
    "X_min = np.min(X)\n",
    "X = X - X_min"
   ]
  },
  {
   "cell_type": "code",
   "execution_count": 450,
   "metadata": {},
   "outputs": [],
   "source": [
    "import numpy as np\n",
    "from sklearn.decomposition import NMF\n",
    "\n",
    "nmf = NMF(n_components=q, init='random', random_state=0)\n",
    "Z = nmf.fit_transform(X)\n",
    "W = nmf.components_\n"
   ]
  },
  {
   "cell_type": "code",
   "execution_count": 451,
   "metadata": {},
   "outputs": [
    {
     "data": {
      "text/plain": [
       "((10, 1771), (2369, 10))"
      ]
     },
     "execution_count": 451,
     "metadata": {},
     "output_type": "execute_result"
    }
   ],
   "source": [
    "W.shape, Z.shape"
   ]
  },
  {
   "cell_type": "code",
   "execution_count": 452,
   "metadata": {},
   "outputs": [
    {
     "name": "stdout",
     "output_type": "stream",
     "text": [
      "COMPONENT 0\n",
      "it by on is that was and in of the\n",
      "\n",
      "COMPONENT 1\n",
      "inc nec east behanna hp writes article in sun com\n",
      "\n",
      "COMPONENT 2\n",
      "state lines subject from organization posting host nntp university edu\n",
      "\n",
      "COMPONENT 3\n",
      "n3jxp cadre dsl shameful edu cs gordon banks geb pitt\n",
      "\n",
      "COMPONENT 4\n",
      "monitor quadra with scsi se to drive apple the mac\n",
      "\n",
      "COMPONENT 5\n",
      "it is the that superstition chinese sensitivity dyer food msg\n",
      "\n",
      "COMPONENT 6\n",
      "your ca on and it my the bike to you\n",
      "\n",
      "COMPONENT 7\n",
      "in be are this it that and of is to\n",
      "\n",
      "COMPONENT 8\n",
      "intelligence aisun3 programs athens michael mcovingt covington uga georgia ai\n",
      "\n",
      "COMPONENT 9\n",
      "his jesus not is you he that to we god\n",
      "\n"
     ]
    }
   ],
   "source": [
    "idx_to_token = {\n",
    "    idx: token \n",
    "    for token, idx in tfidf_vectorizer.vocabulary_.items()\n",
    "}\n",
    "\n",
    "# For each component...\n",
    "for i in range(q):\n",
    "    insens_idx = np.argsort(W[i, :])\n",
    "\n",
    "    print ('COMPONENT ' + str(i))\n",
    "    print (' '.join([idx_to_token[w_ix] for w_ix in insens_idx[-10:]]) + '\\n')  # 10 most active words in each of the components of W"
   ]
  }
 ],
 "metadata": {
  "kernelspec": {
   "display_name": "Python 3",
   "language": "python",
   "name": "python3"
  },
  "language_info": {
   "codemirror_mode": {
    "name": "ipython",
    "version": 3
   },
   "file_extension": ".py",
   "mimetype": "text/x-python",
   "name": "python",
   "nbconvert_exporter": "python",
   "pygments_lexer": "ipython3",
   "version": "3.7.4"
  }
 },
 "nbformat": 4,
 "nbformat_minor": 4
}
